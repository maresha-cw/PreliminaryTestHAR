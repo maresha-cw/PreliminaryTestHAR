import numpy as np
import pandas as pd
import random
import cv2
import os
import functools
from imutils import paths
from sklearn.model_selection import train_test_split
from sklearn.utils import shuffle
from sklearn.metrics import accuracy_score

import tensorflow as tf
from tensorflow.keras.models import Sequential
from tensorflow.keras.layers import Conv1D
from tensorflow.keras.layers import MaxPooling1D
from tensorflow.keras.layers import Activation
from tensorflow.keras.layers import Flatten
from tensorflow.keras.layers import Dense
from tensorflow.keras.optimizers import SGD
from tensorflow.keras import backend as K

from google.colab import drive
drive.mount('/content/drive')
directori = "/content/drive/My Drive/testGC/DBALab-Test/Preprocessed/"

## Read data per subject
def read_subject(subject):
  file_path = directori + 'mHealth_subject' + str(subject) + '.csv'
  # Read file
  try:
    df = pd.read_csv(file_path, delim_whitespace = True, header = None)
  except IOError:
    print("Data file does not exist!")
  # Remove data with null class (=0)
  df = df[df[23] > 0]
  df = df.head(5000).copy()
  return df

def split_by_blocks(df, block_size=100):
  # Channels, block_size
  n_channels = df.shape[1]-1
  block_size = 100
  # Group by labels
  grps = df.groupby(21)
  # Create a list for concatenating
  X_ = []
  Y_ = []
  # Loop over groups (labels), reshape to tensor and concatenate
  for ig in range(1,7,1):
    df_ = df
    # Data and targets
    y = pd.unique(df_[21].values)
    x = df_.drop(21, axis=1).values
    
    n_blocks = len(x) // block_size
    x = x[:n_blocks*block_size]
    y = y[:n_blocks*block_size]

    x_tensor = x.reshape(-1, block_size, n_channels)

    # Append
    X_.append(x_tensor)
    Y_.append(np.array([y]*len(x_tensor), dtype=int).squeeze())

  # Concatenate and return
  X = np.concatenate(X_, axis=0)
  Y = np.concatenate(Y_, axis=0)

  return X, Y

def collect_save_data(subject_count = 10, block_size=100):
  """ Collects all the data from all the subjects and writes in file """
  # Initiate lists
  X_ = []
  Y_ = []
  for s in range(1,subject_count+1):
    # Read the data
    df = read_subject(s)
    # Split into blocks
    x,y = split_by_blocks(df, block_size)
    X_.append(x)
    Y_.append(y)
  
  return X_, Y_
    
#apply our function
act_list, label_list = collect_save_data(10, 100)

#split data into training and test set
X_train, X_test, y_train, y_test = train_test_split(act_list, label_list, test_size=0.2, random_state=123)

#create clients
def create_clients(act_list, label_list, num_clients=8, initial='clients'):
  #create a list of client names
  client_names = ['{}_{}'.format(initial, i+1) for i in range(num_clients)]
  return {client_names[i] : label_list[i] for i in range(len(client_names))}

clients = create_clients(X_train, y_train, num_clients=8, initial='client')

